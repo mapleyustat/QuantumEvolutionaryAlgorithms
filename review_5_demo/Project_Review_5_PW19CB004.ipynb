{
 "cells": [
  {
   "cell_type": "markdown",
   "metadata": {},
   "source": [
    "<html>\n",
    "    <center><h1>Quantum Evolutionary Algorithms</h1>\n",
    "        <h2>for K-Means Clustering</h2></center>\n",
    "        <br/>\n",
    "    <center><h4>Project Id: PW19CB004</center>\n",
    "    <center><h4>Project Guide: Mr Channa Bankapur</center>\n",
    "    <br/>\n",
    "        <center><h4>Varun Vora - 01FB15ECS342</center>\n",
    "            <center><h4>Vishal Krishna Kumar P - 01FB15ECS354</center>\n",
    "\n",
    "</html>"
   ]
  },
  {
   "cell_type": "markdown",
   "metadata": {},
   "source": [
    "## Abstract\n",
    "Quantum computing is the study of quantum-mechanical phenomena to perform\n",
    "computation. This paradigm of computation enables us to solve some classes of problems\n",
    "easily that are otherwise difficult on classical computers. Since current state of the art\n",
    "quantum computers are very primitive and inaccessible, we implement library to emulate a\n",
    "basic quantum computer.\n",
    "\n",
    "K-means clustering is a popular unsupervised learning technique. The genetic algorithm is a\n",
    "common heuristic used to improve the outcomes of the k-means algorithm. We use the\n",
    "quantum computer emulation library to demonstrate an improvement in k-means clustering\n",
    "with the genetic algorithm without assuming the value of k beforehand. This use case of\n",
    "quantum computing shows how it can be used to optimize any problem that uses the genetic\n",
    "algorithm."
   ]
  },
  {
   "cell_type": "markdown",
   "metadata": {},
   "source": [
    "## Part 1: Qubit Library\n",
    "Since modern quantum computers are still relatively primitive and inaccessible, we wrote a simple library to emulate the basic behaviour of a logical quantum computer. Qubit is a Python library that emulates the behaviour of a quantum computer on a classical computer.\n",
    "\n",
    "<img src = \"quantum_stack.png\" wid = \"400\"/>\n",
    "\n",
    "### Install\n",
    "\n",
    "`pip install -e git+https://github.com/varunvora/QuantumEvolutionaryAlgorithms.git`\n",
    "\n",
    "### Usage\n",
    "\n",
    "### Initialization"
   ]
  },
  {
   "cell_type": "code",
   "execution_count": 1,
   "metadata": {},
   "outputs": [
    {
     "name": "stdout",
     "output_type": "stream",
     "text": [
      "|psi> = 0.8017592841158672|0> + 0.5976470951439589|1>\n",
      "alpha = 0.8017592841158672, beta = 0.5976470951439589\n"
     ]
    }
   ],
   "source": [
    "from qubit import Qubit\n",
    "\n",
    "ket1 = Qubit()\n",
    "print(f\"|psi> = {ket1}\")\n",
    "\n",
    "# Get individual components\n",
    "print(f\"alpha = {ket1.a}, beta = {ket1.b}\")"
   ]
  },
  {
   "cell_type": "markdown",
   "metadata": {},
   "source": [
    "### Quantum Gates"
   ]
  },
  {
   "cell_type": "code",
   "execution_count": 2,
   "metadata": {},
   "outputs": [
    {
     "name": "stdout",
     "output_type": "stream",
     "text": [
      "0.8017592841158672|0> + 0.5976470951439589|1>\n",
      "0.9895297404103366|0> + 0.1443291129448664|1>\n",
      "\n",
      "        Hadamard gate forms a uniformly random input\n",
      "        \n",
      "0.9895297404103366|0> + 0.1443291129448664|1>\n",
      "0.1443291129448664|0> + 0.9895297404103366|1>\n",
      "\n",
      "        equivalent to logical NOT gate\n",
      "        It equates to a rotation around the X-axis of the Bloch sphere by pi radians.\n",
      "        \n"
     ]
    }
   ],
   "source": [
    "# apply hadamard gate\n",
    "print(ket1)\n",
    "ket1.hadamard_gate()\n",
    "print(ket1)\n",
    "\n",
    "hadamard_doc = ket1.get_documentation(\"hadamard_gate\")\n",
    "print(hadamard_doc)\n",
    "\n",
    "# apply pauli x gate\n",
    "print(ket1)\n",
    "ket1.pauli_x_gate()\n",
    "print(ket1)\n",
    "\n",
    "pauli_x_doc = ket1.get_documentation(\"pauli_x_gate\")\n",
    "print(pauli_x_doc)"
   ]
  },
  {
   "cell_type": "markdown",
   "metadata": {},
   "source": [
    "#### Measuring Qubits\n",
    "Once the value of qubit is measured, it collapses into a single state (0 or 1) beyond which applying any quantum gate is invalid"
   ]
  },
  {
   "cell_type": "code",
   "execution_count": 3,
   "metadata": {},
   "outputs": [
    {
     "name": "stdout",
     "output_type": "stream",
     "text": [
      "\n",
      "        The qubit collapses into a single state- 0 or 1\n",
      "        based on the amplitude of its components.\n",
      "        \n",
      "0.1443291129448664|0> + 0.9895297404103366|1>\n",
      "0|0> + 1|1>\n",
      "1\n",
      "0|0> + 1|1>\n"
     ]
    }
   ],
   "source": [
    "print(ket1.get_documentation(\"measure\"))\n",
    "print(ket1)\n",
    "ket1.measure()\n",
    "print(ket1)\n",
    "print(ket1.measured_value)\n",
    "\n",
    "ket1.pauli_z_gate()\n",
    "print(ket1)\n"
   ]
  },
  {
   "cell_type": "markdown",
   "metadata": {},
   "source": [
    "## Part 2: QEA\n",
    "\n",
    "Traditional k-means clustering algorithm has two shortcomings.\n",
    "\n",
    "1. Clustering outcome is sensitive to the randomly initialized centroids and this may lead the algorithm converge to the local optima.\n",
    "1. Value of k has to be known in advance.\n",
    "\n",
    "### Solution to 1: Use genetic algorithms\n",
    "Initialize a population of centroids and allow it to be learnt over many generations through selection, crossover and mutation.\n",
    "\n",
    "### Solution to 2: Use qubits to represent genes\n",
    "1. Representing gene pattern with qubits allows us to represent more patterns simultaneously. This introduces some randomness and makes the centroids less sensitive to initial values.\n",
    "1. Moreover, this allows us for **variable encoding** of the genes. This prevents us from having to guess the initial value of k that can be learnt in the evolutionary process.\n",
    "\n",
    "### Other design choices\n",
    "1. Use Eucledian distance & Davies-Bouldin rule index to calculate the fitness of an individual.\n",
    "2. Roulette selection and elite selection\n",
    "3. Crossover operation can change the length of the chromosomes\n",
    "4. Mutation uses pauli_x_gate and **rotates the qubit** in the direction of higher fitness\n",
    "\n",
    "## Results\n",
    "\n",
    "### Training\n",
    "Simulated dataset with 8 clusters and 800 samples. Notice that the value of k is varying during training. This took approximately 13 hours.\n",
    "\n",
    "![](sd3-training.png)\n",
    "\n",
    "Clusters after training\n",
    "\n",
    "<img src = \"sd3-output.png\" width = \"400\"/>\n",
    "\n",
    "### Comparison\n",
    "The value of k was randomly chosen 2 <= k <= sqrt(N).respectively. Over 50 repetitions with at most 100 generations each, these are the improvements shown by QEA.\n",
    "\n",
    "<img src = \"comparison-qea.png\" width = \"500\" />\n",
    "\n",
    "## Future Work\n",
    "1. Improve on training speed by choosing different selection operations\n",
    "2. Mitigate outliers in dataset (K-median, weighted data points)\n",
    "3. Explore deeply about other quantum gates"
   ]
  },
  {
   "cell_type": "markdown",
   "metadata": {},
   "source": []
  },
  {
   "cell_type": "code",
   "execution_count": null,
   "metadata": {},
   "outputs": [],
   "source": []
  }
 ],
 "metadata": {
  "kernelspec": {
   "display_name": "Python 3",
   "language": "python",
   "name": "python3"
  },
  "language_info": {
   "codemirror_mode": {
    "name": "ipython",
    "version": 3
   },
   "file_extension": ".py",
   "mimetype": "text/x-python",
   "name": "python",
   "nbconvert_exporter": "python",
   "pygments_lexer": "ipython3",
   "version": "3.7.2"
  }
 },
 "nbformat": 4,
 "nbformat_minor": 2
}
