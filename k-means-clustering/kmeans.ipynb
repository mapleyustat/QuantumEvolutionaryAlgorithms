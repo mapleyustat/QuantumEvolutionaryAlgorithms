{
 "cells": [
  {
   "cell_type": "code",
   "execution_count": 1,
   "metadata": {},
   "outputs": [
    {
     "name": "stdout",
     "output_type": "stream",
     "text": [
      "IRIS\n",
      "\n",
      "******Cluster centers found after 20 k means runs******\n",
      "\n",
      "\n",
      "[[5.9016129  2.7483871  4.39354839 1.43387097]\n",
      " [5.006      3.428      1.462      0.246     ]\n",
      " [6.85       3.07368421 5.74210526 2.07105263]] \n",
      "\n",
      "*******Labels*******\n",
      "\n",
      "[1 1 1 1 1 1 1 1 1 1 1 1 1 1 1 1 1 1 1 1 1 1 1 1 1 1 1 1 1 1 1 1 1 1 1 1 1\n",
      " 1 1 1 1 1 1 1 1 1 1 1 1 1 0 0 2 0 0 0 0 0 0 0 0 0 0 0 0 0 0 0 0 0 0 0 0 0\n",
      " 0 0 0 2 0 0 0 0 0 0 0 0 0 0 0 0 0 0 0 0 0 0 0 0 0 0 2 0 2 2 2 2 0 2 2 2 2\n",
      " 2 2 0 0 2 2 2 2 0 2 0 2 0 2 2 0 0 2 2 2 2 2 0 2 2 2 2 0 2 2 2 0 2 2 2 0 2\n",
      " 2 0] \n",
      "\n",
      "\n",
      "******* Predicted clusters for array 1 and 2 *******\n",
      "\n",
      "[0 1]\n",
      "\n",
      "\n",
      "\n",
      "WINE\n",
      "\n",
      "******Cluster centers found after 20 k means runs******\n",
      "\n",
      "\n",
      "[[1.29298387e+01 2.50403226e+00 2.40806452e+00 1.98903226e+01\n",
      "  1.03596774e+02 2.11112903e+00 1.58403226e+00 3.88387097e-01\n",
      "  1.50338710e+00 5.65032258e+00 8.83967742e-01 2.36548387e+00\n",
      "  7.28338710e+02]\n",
      " [1.38044681e+01 1.88340426e+00 2.42617021e+00 1.70234043e+01\n",
      "  1.05510638e+02 2.86723404e+00 3.01425532e+00 2.85319149e-01\n",
      "  1.91042553e+00 5.70255319e+00 1.07829787e+00 3.11404255e+00\n",
      "  1.19514894e+03]\n",
      " [1.25166667e+01 2.49420290e+00 2.28855072e+00 2.08231884e+01\n",
      "  9.23478261e+01 2.07072464e+00 1.75840580e+00 3.90144928e-01\n",
      "  1.45188406e+00 4.08695651e+00 9.41159420e-01 2.49072464e+00\n",
      "  4.58231884e+02]] \n",
      "\n",
      "*******Labels*******\n",
      "\n",
      "[1 1 1 1 0 1 1 1 1 1 1 1 1 1 1 1 1 1 1 0 0 0 1 1 0 0 1 1 0 1 1 1 1 1 1 0 0\n",
      " 1 1 0 0 1 1 0 0 1 1 1 1 1 1 1 1 1 1 1 1 1 1 2 0 2 0 2 2 0 2 2 0 0 0 2 2 1\n",
      " 0 2 2 2 0 2 2 0 0 2 2 2 2 2 0 0 2 2 2 2 2 0 0 2 0 2 0 2 2 2 0 2 2 2 2 0 2\n",
      " 2 0 2 2 2 2 2 2 2 0 2 2 2 2 2 2 2 2 2 0 2 2 0 0 0 0 2 2 2 0 0 2 2 0 0 2 0\n",
      " 0 2 2 2 2 0 0 0 2 0 0 0 2 0 2 0 0 2 0 0 0 0 2 2 0 0 0 0 0 2] \n",
      "\n",
      "\n"
     ]
    }
   ],
   "source": [
    "import sys\n",
    "sys.path.insert(0, '../datasets')\n",
    "from dataset_loader import *\n",
    "from sklearn.cluster import KMeans\n",
    "\n",
    "kmeans = KMeans(n_clusters=3, n_init= 20, random_state=0).fit(iris.data)\n",
    "print(\"IRIS\\n\")\n",
    "print(\"******Cluster centers found after 20 k means runs******\\n\\n\")\n",
    "print(kmeans.cluster_centers_, \"\\n\")\n",
    "print(\"*******Labels*******\\n\")\n",
    "print(kmeans.labels_, \"\\n\\n\")\n",
    "predict = kmeans.predict([[6.3, 2.5, 5. , 1.9],  [4.6, 3.1, 1.5, 0.2]]) # predicting which class these points belong to\n",
    "print(\"******* Predicted clusters for array 1 and 2 *******\\n\")\n",
    "print(predict)\n",
    "print(\"\\n\\n\")\n",
    "\n",
    "print(\"WINE\\n\")\n",
    "kmeans = KMeans(n_clusters=3, n_init= 20, random_state=0).fit(wine.data)\n",
    "print(\"******Cluster centers found after 20 k means runs******\\n\\n\")\n",
    "print(kmeans.cluster_centers_, \"\\n\")\n",
    "print(\"*******Labels*******\\n\")\n",
    "print(kmeans.labels_, \"\\n\\n\")\n"
   ]
  },
  {
   "cell_type": "code",
   "execution_count": null,
   "metadata": {},
   "outputs": [],
   "source": []
  }
 ],
 "metadata": {
  "kernelspec": {
   "display_name": "Python 3",
   "language": "python",
   "name": "python3"
  },
  "language_info": {
   "codemirror_mode": {
    "name": "ipython",
    "version": 3
   },
   "file_extension": ".py",
   "mimetype": "text/x-python",
   "name": "python",
   "nbconvert_exporter": "python",
   "pygments_lexer": "ipython3",
   "version": "3.7.2"
  }
 },
 "nbformat": 4,
 "nbformat_minor": 2
}
